{
 "cells": [
  {
   "cell_type": "code",
   "execution_count": 1,
   "metadata": {},
   "outputs": [],
   "source": [
    "import pandas as pd\n",
    "import spotipy\n",
    "from spotipy.oauth2 import SpotifyClientCredentials \n",
    "import spotipy.util as util\n",
    "import sys"
   ]
  },
  {
   "cell_type": "markdown",
   "metadata": {},
   "source": [
    "# Spotify API Exploration\n",
    "\n",
    "First, to use the Spotify API and access my spotify information (playlists, saved songs, etc...), it's necessary to access the Spotify Developer web page to create credentials for the project (https://developer.spotify.com/). After creating the project on the dashboard tab hit the Edit Settings button to stablish a URI. Set it up to http://localhost:8888/callback"
   ]
  },
  {
   "cell_type": "code",
   "execution_count": 2,
   "metadata": {},
   "outputs": [],
   "source": [
    "## My credentials of spotify developer\n",
    "id='8e065908af2f4e86920cf30626ac07ce'\n",
    "secret='0eddbf1541ea47cd9d393ed8bf0ef2b8'\n",
    "username=\"\""
   ]
  },
  {
   "cell_type": "code",
   "execution_count": 16,
   "metadata": {},
   "outputs": [],
   "source": [
    "client_credentials=SpotifyClientCredentials(client_id=id, client_secret=secret)\n",
    "spotipy.Spotify(client_credentials_manager=client_credentials)\n",
    "\n",
    "scope = 'user-library-read playlist-read-private'\n",
    "token = util.prompt_for_user_token(\n",
    "        username=username,\n",
    "        scope=scope,\n",
    "        client_id=id,\n",
    "        client_secret=secret,\n",
    "        redirect_uri='http://localhost:8888/callback')\n",
    "if token:\n",
    "    sp = spotipy.Spotify(auth=token)\n",
    "else:\n",
    "    print(\"Can't get token for\", username)"
   ]
  },
  {
   "cell_type": "markdown",
   "metadata": {},
   "source": [
    "### How to get all my saved songs?\n",
    "\n",
    "The Spotify API only allows us to get info of 20 songs at a time, so we use the next function to extract all songs saved"
   ]
  },
  {
   "cell_type": "code",
   "execution_count": 4,
   "metadata": {},
   "outputs": [],
   "source": [
    "def get_tracks(verbose=True, show_number_songs=True):\n",
    "    # The objective of this function is to get the dictionaries with the info of all the tracks saved\n",
    "    # This function has no mandatory arguments\n",
    "    results = sp.current_user_saved_tracks()\n",
    "    tracks = results['items']\n",
    "    while results['next']:\n",
    "        results = sp.next(results)\n",
    "        tracks.extend(results['items'])\n",
    "        if verbose==True:\n",
    "            if show_number_songs==True:\n",
    "                if len(tracks)%200==0:\n",
    "                    print('{} songs have been extracted'.format(len(tracks)))\n",
    "            else:\n",
    "                if len(tracks)%200==0:\n",
    "                    print('{} extraction'.format(len(tracks)))    \n",
    "    return tracks"
   ]
  },
  {
   "cell_type": "code",
   "execution_count": 5,
   "metadata": {},
   "outputs": [
    {
     "name": "stdout",
     "output_type": "stream",
     "text": [
      "200 songs have been extracted\n",
      "400 songs have been extracted\n",
      "600 songs have been extracted\n",
      "800 songs have been extracted\n",
      "1000 songs have been extracted\n"
     ]
    }
   ],
   "source": [
    "list_tracks=get_tracks()"
   ]
  },
  {
   "cell_type": "markdown",
   "metadata": {},
   "source": [
    "__We check the total number of songs extracted, the first song and the last song added__"
   ]
  },
  {
   "cell_type": "code",
   "execution_count": 6,
   "metadata": {},
   "outputs": [
    {
     "name": "stdout",
     "output_type": "stream",
     "text": [
      "The number of songs saved by the user was 1092\n"
     ]
    }
   ],
   "source": [
    "print('The number of songs saved by the user was {}'.format(len(list_tracks)))"
   ]
  },
  {
   "cell_type": "code",
   "execution_count": 7,
   "metadata": {},
   "outputs": [
    {
     "name": "stdout",
     "output_type": "stream",
     "text": [
      "First song added: Tainted Love - Marilyn Manson\n",
      "Last song added: Clocks - Coldplay\n"
     ]
    }
   ],
   "source": [
    "print('First song added: {} - {}'.format(list_tracks[-1]['track']['name'], list_tracks[-1]['track']['artists'][0]['name']))\n",
    "print('Last song added: {} - {}'.format(list_tracks[0]['track']['name'], list_tracks[0]['track']['artists'][0]['name']))"
   ]
  },
  {
   "cell_type": "code",
   "execution_count": 8,
   "metadata": {},
   "outputs": [],
   "source": [
    "def get_any_track_title(list_tracks, which=None):\n",
    "    if which==None:\n",
    "        which=list(range(len(list_tracks)))\n",
    "        for track in list_tracks:\n",
    "            print('{} - {}'.format(track['track']['name'], track['track']['artists'][0]['name']))\n",
    "    else:\n",
    "        print('{} - {}'.format(list_tracks[which]['track']['name'], list_tracks[which]['track']['artists'][0]['name']))"
   ]
  },
  {
   "cell_type": "code",
   "execution_count": 9,
   "metadata": {},
   "outputs": [
    {
     "name": "stdout",
     "output_type": "stream",
     "text": [
      "Fell In Love With a Girl - The White Stripes\n"
     ]
    }
   ],
   "source": [
    "get_any_track_title(list_tracks, which=763)"
   ]
  },
  {
   "cell_type": "markdown",
   "metadata": {},
   "source": [
    "### Extract Songs' Features\n",
    "To extract the features of songs it is necessary to get their _id_ first, and then use the method _audiofeatures_ to get the features of each song. The idea is to get the features organized in a pandas dataframe"
   ]
  },
  {
   "cell_type": "code",
   "execution_count": 10,
   "metadata": {},
   "outputs": [
    {
     "data": {
      "text/html": [
       "<div>\n",
       "<style scoped>\n",
       "    .dataframe tbody tr th:only-of-type {\n",
       "        vertical-align: middle;\n",
       "    }\n",
       "\n",
       "    .dataframe tbody tr th {\n",
       "        vertical-align: top;\n",
       "    }\n",
       "\n",
       "    .dataframe thead th {\n",
       "        text-align: right;\n",
       "    }\n",
       "</style>\n",
       "<table border=\"1\" class=\"dataframe\">\n",
       "  <thead>\n",
       "    <tr style=\"text-align: right;\">\n",
       "      <th></th>\n",
       "      <th>ID</th>\n",
       "      <th>artist</th>\n",
       "      <th>title</th>\n",
       "    </tr>\n",
       "  </thead>\n",
       "  <tbody>\n",
       "    <tr>\n",
       "      <th>0</th>\n",
       "      <td>0BCPKOYdS2jbQ8iyB56Zns</td>\n",
       "      <td>Coldplay</td>\n",
       "      <td>Clocks</td>\n",
       "    </tr>\n",
       "    <tr>\n",
       "      <th>1</th>\n",
       "      <td>0gaohTJb734s9Av2YzDNQE</td>\n",
       "      <td>Joe Vasconcellos</td>\n",
       "      <td>Huellas - Live From Santiago,Chile/1999</td>\n",
       "    </tr>\n",
       "    <tr>\n",
       "      <th>2</th>\n",
       "      <td>1gkEVPaXThDhfUAo6EI04U</td>\n",
       "      <td>Eve</td>\n",
       "      <td>Let Me Blow Ya Mind</td>\n",
       "    </tr>\n",
       "  </tbody>\n",
       "</table>\n",
       "</div>"
      ],
      "text/plain": [
       "                       ID            artist  \\\n",
       "0  0BCPKOYdS2jbQ8iyB56Zns          Coldplay   \n",
       "1  0gaohTJb734s9Av2YzDNQE  Joe Vasconcellos   \n",
       "2  1gkEVPaXThDhfUAo6EI04U               Eve   \n",
       "\n",
       "                                     title  \n",
       "0                                   Clocks  \n",
       "1  Huellas - Live From Santiago,Chile/1999  \n",
       "2                      Let Me Blow Ya Mind  "
      ]
     },
     "execution_count": 10,
     "metadata": {},
     "output_type": "execute_result"
    }
   ],
   "source": [
    "def get_id(list_tracks):\n",
    "    # The objetive of this function is to extract the IDs, artists and song titles and organize them into a pandas dataframe\n",
    "    # @parar\n",
    "    ID=[]\n",
    "    artist=[]\n",
    "    title=[]\n",
    "    for track in list_tracks:\n",
    "        ID.append(track['track']['id'])\n",
    "        artist.append(track['track']['artists'][0]['name'])\n",
    "        title.append(track['track']['name'])\n",
    "    \n",
    "    data=pd.DataFrame({'ID':ID, 'artist':artist, 'title': title})\n",
    "    return data\n",
    "# Example\n",
    "get_id(list_tracks[0:3])"
   ]
  },
  {
   "cell_type": "code",
   "execution_count": 11,
   "metadata": {},
   "outputs": [],
   "source": [
    "data_id=get_id(list_tracks)"
   ]
  },
  {
   "cell_type": "code",
   "execution_count": 12,
   "metadata": {},
   "outputs": [],
   "source": [
    "def get_features(data_of_id, spotify_object):\n",
    "    # The objective of this function is to extract and organize in pandas dataframe de features of each song\n",
    "    data=dict()    \n",
    "    for song in list(data_id.ID):\n",
    "        features=spotify_object.audio_features(song)[0]\n",
    "        data.update({song:features})\n",
    "        \n",
    "    data=pd.DataFrame.from_records(data).T\n",
    "    return data"
   ]
  },
  {
   "cell_type": "code",
   "execution_count": 18,
   "metadata": {},
   "outputs": [
    {
     "name": "stdout",
     "output_type": "stream",
     "text": [
      "Wall time: 3min 15s\n"
     ]
    }
   ],
   "source": [
    "%%time\n",
    "features=get_features(data_id, sp)"
   ]
  },
  {
   "cell_type": "code",
   "execution_count": 29,
   "metadata": {},
   "outputs": [],
   "source": [
    "## We create a dataframe with de Song titles, authors, IDs and features\n",
    "data=pd.merge(data_id, features.reset_index().rename(columns={'index':'ID'}))"
   ]
  },
  {
   "cell_type": "code",
   "execution_count": 30,
   "metadata": {},
   "outputs": [
    {
     "data": {
      "text/html": [
       "<div>\n",
       "<style scoped>\n",
       "    .dataframe tbody tr th:only-of-type {\n",
       "        vertical-align: middle;\n",
       "    }\n",
       "\n",
       "    .dataframe tbody tr th {\n",
       "        vertical-align: top;\n",
       "    }\n",
       "\n",
       "    .dataframe thead th {\n",
       "        text-align: right;\n",
       "    }\n",
       "</style>\n",
       "<table border=\"1\" class=\"dataframe\">\n",
       "  <thead>\n",
       "    <tr style=\"text-align: right;\">\n",
       "      <th></th>\n",
       "      <th>ID</th>\n",
       "      <th>artist</th>\n",
       "      <th>title</th>\n",
       "      <th>acousticness</th>\n",
       "      <th>analysis_url</th>\n",
       "      <th>danceability</th>\n",
       "      <th>duration_ms</th>\n",
       "      <th>energy</th>\n",
       "      <th>id</th>\n",
       "      <th>instrumentalness</th>\n",
       "      <th>...</th>\n",
       "      <th>liveness</th>\n",
       "      <th>loudness</th>\n",
       "      <th>mode</th>\n",
       "      <th>speechiness</th>\n",
       "      <th>tempo</th>\n",
       "      <th>time_signature</th>\n",
       "      <th>track_href</th>\n",
       "      <th>type</th>\n",
       "      <th>uri</th>\n",
       "      <th>valence</th>\n",
       "    </tr>\n",
       "  </thead>\n",
       "  <tbody>\n",
       "    <tr>\n",
       "      <th>0</th>\n",
       "      <td>0BCPKOYdS2jbQ8iyB56Zns</td>\n",
       "      <td>Coldplay</td>\n",
       "      <td>Clocks</td>\n",
       "      <td>0.599</td>\n",
       "      <td>https://api.spotify.com/v1/audio-analysis/0BCP...</td>\n",
       "      <td>0.577</td>\n",
       "      <td>307880</td>\n",
       "      <td>0.749</td>\n",
       "      <td>0BCPKOYdS2jbQ8iyB56Zns</td>\n",
       "      <td>0.0112</td>\n",
       "      <td>...</td>\n",
       "      <td>0.183</td>\n",
       "      <td>-7.215</td>\n",
       "      <td>0</td>\n",
       "      <td>0.0279</td>\n",
       "      <td>130.969</td>\n",
       "      <td>4</td>\n",
       "      <td>https://api.spotify.com/v1/tracks/0BCPKOYdS2jb...</td>\n",
       "      <td>audio_features</td>\n",
       "      <td>spotify:track:0BCPKOYdS2jbQ8iyB56Zns</td>\n",
       "      <td>0.261</td>\n",
       "    </tr>\n",
       "    <tr>\n",
       "      <th>1</th>\n",
       "      <td>0gaohTJb734s9Av2YzDNQE</td>\n",
       "      <td>Joe Vasconcellos</td>\n",
       "      <td>Huellas - Live From Santiago,Chile/1999</td>\n",
       "      <td>0.0711</td>\n",
       "      <td>https://api.spotify.com/v1/audio-analysis/0gao...</td>\n",
       "      <td>0.496</td>\n",
       "      <td>375040</td>\n",
       "      <td>0.83</td>\n",
       "      <td>0gaohTJb734s9Av2YzDNQE</td>\n",
       "      <td>0.000116</td>\n",
       "      <td>...</td>\n",
       "      <td>0.987</td>\n",
       "      <td>-9.734</td>\n",
       "      <td>1</td>\n",
       "      <td>0.0599</td>\n",
       "      <td>120.115</td>\n",
       "      <td>4</td>\n",
       "      <td>https://api.spotify.com/v1/tracks/0gaohTJb734s...</td>\n",
       "      <td>audio_features</td>\n",
       "      <td>spotify:track:0gaohTJb734s9Av2YzDNQE</td>\n",
       "      <td>0.556</td>\n",
       "    </tr>\n",
       "    <tr>\n",
       "      <th>2</th>\n",
       "      <td>1gkEVPaXThDhfUAo6EI04U</td>\n",
       "      <td>Eve</td>\n",
       "      <td>Let Me Blow Ya Mind</td>\n",
       "      <td>0.286</td>\n",
       "      <td>https://api.spotify.com/v1/audio-analysis/1gkE...</td>\n",
       "      <td>0.897</td>\n",
       "      <td>230013</td>\n",
       "      <td>0.452</td>\n",
       "      <td>1gkEVPaXThDhfUAo6EI04U</td>\n",
       "      <td>0</td>\n",
       "      <td>...</td>\n",
       "      <td>0.0508</td>\n",
       "      <td>-7.699</td>\n",
       "      <td>0</td>\n",
       "      <td>0.119</td>\n",
       "      <td>90.008</td>\n",
       "      <td>4</td>\n",
       "      <td>https://api.spotify.com/v1/tracks/1gkEVPaXThDh...</td>\n",
       "      <td>audio_features</td>\n",
       "      <td>spotify:track:1gkEVPaXThDhfUAo6EI04U</td>\n",
       "      <td>0.87</td>\n",
       "    </tr>\n",
       "    <tr>\n",
       "      <th>3</th>\n",
       "      <td>3B689qjcFrNrHT4tB6g7Aa</td>\n",
       "      <td>The Shapeshifters</td>\n",
       "      <td>Back To Basics</td>\n",
       "      <td>0.00253</td>\n",
       "      <td>https://api.spotify.com/v1/audio-analysis/3B68...</td>\n",
       "      <td>0.704</td>\n",
       "      <td>327280</td>\n",
       "      <td>0.928</td>\n",
       "      <td>3B689qjcFrNrHT4tB6g7Aa</td>\n",
       "      <td>0.00373</td>\n",
       "      <td>...</td>\n",
       "      <td>0.526</td>\n",
       "      <td>-5.295</td>\n",
       "      <td>0</td>\n",
       "      <td>0.0411</td>\n",
       "      <td>123.986</td>\n",
       "      <td>4</td>\n",
       "      <td>https://api.spotify.com/v1/tracks/3B689qjcFrNr...</td>\n",
       "      <td>audio_features</td>\n",
       "      <td>spotify:track:3B689qjcFrNrHT4tB6g7Aa</td>\n",
       "      <td>0.575</td>\n",
       "    </tr>\n",
       "    <tr>\n",
       "      <th>4</th>\n",
       "      <td>5wthav9v68BUkyrBlB0f48</td>\n",
       "      <td>Lee-rené</td>\n",
       "      <td>Fingers Down My Spine</td>\n",
       "      <td>0.022</td>\n",
       "      <td>https://api.spotify.com/v1/audio-analysis/5wth...</td>\n",
       "      <td>0.604</td>\n",
       "      <td>206713</td>\n",
       "      <td>0.834</td>\n",
       "      <td>5wthav9v68BUkyrBlB0f48</td>\n",
       "      <td>0</td>\n",
       "      <td>...</td>\n",
       "      <td>0.333</td>\n",
       "      <td>-7.286</td>\n",
       "      <td>1</td>\n",
       "      <td>0.0933</td>\n",
       "      <td>84.933</td>\n",
       "      <td>4</td>\n",
       "      <td>https://api.spotify.com/v1/tracks/5wthav9v68BU...</td>\n",
       "      <td>audio_features</td>\n",
       "      <td>spotify:track:5wthav9v68BUkyrBlB0f48</td>\n",
       "      <td>0.804</td>\n",
       "    </tr>\n",
       "  </tbody>\n",
       "</table>\n",
       "<p>5 rows × 21 columns</p>\n",
       "</div>"
      ],
      "text/plain": [
       "                       ID             artist  \\\n",
       "0  0BCPKOYdS2jbQ8iyB56Zns           Coldplay   \n",
       "1  0gaohTJb734s9Av2YzDNQE   Joe Vasconcellos   \n",
       "2  1gkEVPaXThDhfUAo6EI04U                Eve   \n",
       "3  3B689qjcFrNrHT4tB6g7Aa  The Shapeshifters   \n",
       "4  5wthav9v68BUkyrBlB0f48           Lee-rené   \n",
       "\n",
       "                                     title acousticness  \\\n",
       "0                                   Clocks        0.599   \n",
       "1  Huellas - Live From Santiago,Chile/1999       0.0711   \n",
       "2                      Let Me Blow Ya Mind        0.286   \n",
       "3                           Back To Basics      0.00253   \n",
       "4                    Fingers Down My Spine        0.022   \n",
       "\n",
       "                                        analysis_url danceability duration_ms  \\\n",
       "0  https://api.spotify.com/v1/audio-analysis/0BCP...        0.577      307880   \n",
       "1  https://api.spotify.com/v1/audio-analysis/0gao...        0.496      375040   \n",
       "2  https://api.spotify.com/v1/audio-analysis/1gkE...        0.897      230013   \n",
       "3  https://api.spotify.com/v1/audio-analysis/3B68...        0.704      327280   \n",
       "4  https://api.spotify.com/v1/audio-analysis/5wth...        0.604      206713   \n",
       "\n",
       "  energy                      id instrumentalness   ...   liveness loudness  \\\n",
       "0  0.749  0BCPKOYdS2jbQ8iyB56Zns           0.0112   ...      0.183   -7.215   \n",
       "1   0.83  0gaohTJb734s9Av2YzDNQE         0.000116   ...      0.987   -9.734   \n",
       "2  0.452  1gkEVPaXThDhfUAo6EI04U                0   ...     0.0508   -7.699   \n",
       "3  0.928  3B689qjcFrNrHT4tB6g7Aa          0.00373   ...      0.526   -5.295   \n",
       "4  0.834  5wthav9v68BUkyrBlB0f48                0   ...      0.333   -7.286   \n",
       "\n",
       "  mode speechiness    tempo time_signature  \\\n",
       "0    0      0.0279  130.969              4   \n",
       "1    1      0.0599  120.115              4   \n",
       "2    0       0.119   90.008              4   \n",
       "3    0      0.0411  123.986              4   \n",
       "4    1      0.0933   84.933              4   \n",
       "\n",
       "                                          track_href            type  \\\n",
       "0  https://api.spotify.com/v1/tracks/0BCPKOYdS2jb...  audio_features   \n",
       "1  https://api.spotify.com/v1/tracks/0gaohTJb734s...  audio_features   \n",
       "2  https://api.spotify.com/v1/tracks/1gkEVPaXThDh...  audio_features   \n",
       "3  https://api.spotify.com/v1/tracks/3B689qjcFrNr...  audio_features   \n",
       "4  https://api.spotify.com/v1/tracks/5wthav9v68BU...  audio_features   \n",
       "\n",
       "                                    uri valence  \n",
       "0  spotify:track:0BCPKOYdS2jbQ8iyB56Zns   0.261  \n",
       "1  spotify:track:0gaohTJb734s9Av2YzDNQE   0.556  \n",
       "2  spotify:track:1gkEVPaXThDhfUAo6EI04U    0.87  \n",
       "3  spotify:track:3B689qjcFrNrHT4tB6g7Aa   0.575  \n",
       "4  spotify:track:5wthav9v68BUkyrBlB0f48   0.804  \n",
       "\n",
       "[5 rows x 21 columns]"
      ]
     },
     "execution_count": 30,
     "metadata": {},
     "output_type": "execute_result"
    }
   ],
   "source": [
    "data.head()"
   ]
  },
  {
   "cell_type": "code",
   "execution_count": null,
   "metadata": {},
   "outputs": [],
   "source": []
  }
 ],
 "metadata": {
  "kernelspec": {
   "display_name": "Python 3",
   "language": "python",
   "name": "python3"
  },
  "language_info": {
   "codemirror_mode": {
    "name": "ipython",
    "version": 3
   },
   "file_extension": ".py",
   "mimetype": "text/x-python",
   "name": "python",
   "nbconvert_exporter": "python",
   "pygments_lexer": "ipython3",
   "version": "3.6.7"
  }
 },
 "nbformat": 4,
 "nbformat_minor": 2
}
