{
 "cells": [
  {
   "cell_type": "code",
   "execution_count": 7,
   "metadata": {},
   "outputs": [],
   "source": [
    "import pandas as pd\n",
    "import spotipy\n",
    "from spotipy.oauth2 import SpotifyClientCredentials \n",
    "import spotipy.util as util\n",
    "import sys"
   ]
  },
  {
   "cell_type": "markdown",
   "metadata": {},
   "source": [
    "# Spotify API Exploration\n",
    "\n",
    "First, to use the Spotify API and access my spotify information (playlists, saved songs, etc...), it's necessary to access the Spotify Developer web page to create credentials for the project (https://developer.spotify.com/). After creating the project on the dashboard tab hit the Edit Settings button to stablish a URI. Set it up to http://localhost:8888/callback"
   ]
  },
  {
   "cell_type": "code",
   "execution_count": 2,
   "metadata": {},
   "outputs": [],
   "source": [
    "## My credentials of spotify developer\n",
    "id='8e065908af2f4e86920cf30626ac07ce'\n",
    "secret='0eddbf1541ea47cd9d393ed8bf0ef2b8'\n",
    "username=\"\""
   ]
  },
  {
   "cell_type": "code",
   "execution_count": 6,
   "metadata": {},
   "outputs": [],
   "source": [
    "client_credentials=SpotifyClientCredentials(client_id=id, client_secret=secret)\n",
    "spotipy.Spotify(client_credentials_manager=client_credentials)\n",
    "\n",
    "scope = 'user-library-read playlist-read-private'\n",
    "token = util.prompt_for_user_token(\n",
    "        username=username,\n",
    "        scope=scope,\n",
    "        client_id=id,\n",
    "        client_secret=secret,\n",
    "        redirect_uri='http://localhost:8888/callback')\n",
    "if token:\n",
    "    sp = spotipy.Spotify(auth=token)\n",
    "else:\n",
    "    print(\"Can't get token for\", username)"
   ]
  },
  {
   "cell_type": "markdown",
   "metadata": {},
   "source": [
    "### How to get all my saved songs?\n",
    "\n",
    "The Spotify API only allows us to get info of 20 songs at a time, so we use the next function to extract all songs saved"
   ]
  },
  {
   "cell_type": "code",
   "execution_count": 32,
   "metadata": {},
   "outputs": [],
   "source": [
    "def get_tracks(verbose=True, show_number_songs=True):\n",
    "    results = sp.current_user_saved_tracks()\n",
    "    tracks = results['items']\n",
    "    while results['next']:\n",
    "        results = sp.next(results)\n",
    "        tracks.extend(results['items'])\n",
    "        if verbose==True:\n",
    "            if show_number_songs==True:\n",
    "                if len(tracks)%200==0:\n",
    "                    print('{} songs have been extracted'.format(len(tracks)))\n",
    "            else:\n",
    "                if len(tracks)%200==0:\n",
    "                    print('{} extraction'.format(len(tracks)))    \n",
    "    return tracks"
   ]
  },
  {
   "cell_type": "code",
   "execution_count": 33,
   "metadata": {},
   "outputs": [
    {
     "name": "stdout",
     "output_type": "stream",
     "text": [
      "200 songs have been extracted\n",
      "400 songs have been extracted\n",
      "600 songs have been extracted\n",
      "800 songs have been extracted\n",
      "1000 songs have been extracted\n"
     ]
    }
   ],
   "source": [
    "list_tracks=get_tracks()"
   ]
  },
  {
   "cell_type": "markdown",
   "metadata": {},
   "source": [
    "__We check the total number of songs extracted, the first song and the last song added__"
   ]
  },
  {
   "cell_type": "code",
   "execution_count": 60,
   "metadata": {},
   "outputs": [
    {
     "name": "stdout",
     "output_type": "stream",
     "text": [
      "The number of songs saved by the user was 1093\n"
     ]
    }
   ],
   "source": [
    "print('The number of songs saved by the user was {}'.format(len(list_tracks)))"
   ]
  },
  {
   "cell_type": "code",
   "execution_count": 59,
   "metadata": {},
   "outputs": [
    {
     "name": "stdout",
     "output_type": "stream",
     "text": [
      "First song added: Tainted Love - Marilyn Manson\n",
      "Last song added: Clocks - Coldplay\n"
     ]
    }
   ],
   "source": [
    "print('First song added: {} - {}'.format(list_tracks[-1]['track']['name'], list_tracks[-1]['track']['artists'][0]['name']))\n",
    "print('Last song added: {} - {}'.format(list_tracks[0]['track']['name'], list_tracks[0]['track']['artists'][0]['name']))"
   ]
  },
  {
   "cell_type": "code",
   "execution_count": 71,
   "metadata": {},
   "outputs": [],
   "source": [
    "def get_any_track_title(list_tracks, which=None):\n",
    "    if which==None:\n",
    "        which=list(range(len(list_tracks)))\n",
    "        for track in list_tracks:\n",
    "            print('{} - {}'.format(track['track']['name'], track['track']['artists'][0]['name']))\n",
    "    else:\n",
    "        print('{} - {}'.format(list_tracks[which]['track']['name'], list_tracks[which]['track']['artists'][0]['name']))"
   ]
  },
  {
   "cell_type": "code",
   "execution_count": 78,
   "metadata": {},
   "outputs": [
    {
     "name": "stdout",
     "output_type": "stream",
     "text": [
      "Lady Angola - Pat Kalla & Le Super Mojo\n"
     ]
    }
   ],
   "source": [
    "get_any_track_title(list_tracks, which=100)"
   ]
  },
  {
   "cell_type": "code",
   "execution_count": null,
   "metadata": {},
   "outputs": [],
   "source": []
  }
 ],
 "metadata": {
  "kernelspec": {
   "display_name": "Python 3",
   "language": "python",
   "name": "python3"
  },
  "language_info": {
   "codemirror_mode": {
    "name": "ipython",
    "version": 3
   },
   "file_extension": ".py",
   "mimetype": "text/x-python",
   "name": "python",
   "nbconvert_exporter": "python",
   "pygments_lexer": "ipython3",
   "version": "3.6.7"
  }
 },
 "nbformat": 4,
 "nbformat_minor": 2
}
